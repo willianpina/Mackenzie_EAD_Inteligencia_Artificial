{
 "cells": [
  {
   "cell_type": "markdown",
   "metadata": {},
   "source": [
    "<p align=\"center\"><b>DEEP LEARNING PARA PROCESSAMENTO DE LINGUAGEM E VISÃO</b></p>\n",
    "<p align=\"justify\"><b>Turma 1B - 2022/1</b></p>\n",
    "<p><b>Trilha 6:</b> Tarefa (Peso 3)</p>\n",
    "<p></p>\n",
    "<p align='justify'>A mineração de textos é uma das principais atividades do processamento de linguagem natural. Diferentes domínios podem construir aplicações para entender melhor os dados textuais, como grandes portais jornalísticos, que constroem sistemas inteligentes para categorizar notícias.</p>\n",
    "<p align='center'><img src=https://dhg1h5j42swfq.cloudfront.net/2021/05/11111019/image-255.png></p>\n",
    "<p align='justify'>Nesta tarefa, você deverá desenvolver um categorizador de notícias utilizando redes neurais recorrentes. Para isso, utilize o conjunto de dados <i>Reuters</i> presente nativamente no TensorFlow-Keras.</p>\n",
    "\n"
   ]
  },
  {
   "cell_type": "code",
   "execution_count": null,
   "metadata": {},
   "outputs": [],
   "source": []
  }
 ],
 "metadata": {
  "interpreter": {
   "hash": "adc9bb8b32507af041d48f79beff297e5596f2d08c3fa998d68427d7acb13fb8"
  },
  "kernelspec": {
   "display_name": "Python 3.9.5 64-bit",
   "language": "python",
   "name": "python3"
  },
  "language_info": {
   "name": "python",
   "version": "3.9.5"
  },
  "orig_nbformat": 4
 },
 "nbformat": 4,
 "nbformat_minor": 2
}
