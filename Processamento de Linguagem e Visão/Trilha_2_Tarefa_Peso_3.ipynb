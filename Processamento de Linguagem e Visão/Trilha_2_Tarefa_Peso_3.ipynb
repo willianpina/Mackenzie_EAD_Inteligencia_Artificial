{
 "cells": [
  {
   "cell_type": "markdown",
   "metadata": {},
   "source": [
    "### **DEEP LEARNING PARA PROCESSAMENTO DE LINGUAGEM E VISÃO [TURMA 01B] - 2022/1**\n",
    "#### Trilha 2: Tarefa (Peso 3)"
   ]
  },
  {
   "cell_type": "markdown",
   "metadata": {},
   "source": [
    "Nesta atividade, você deverá carregar os dados disponibilizados `OSI_feats_e3.csv`(entrada) e `OSI_feats_e2.csv` (Saída) combinando os seguintes passos:\n",
    "\n",
    "```\n",
    "1. Carregue os dados e divida-os em treinamento e teste. \n",
    "2. Crie um modelo sequencial. \n",
    "3. Adicione uma camada Dense com N neurônios, sendo N a quantidade de atributos. \n",
    "4. Adicione uma função de ativação sigmoide. \n",
    "5. Compile o modelo especificando o otimizador, a métrica de loss para avaliar, e quaisquer outras métricas para avaliar depois de cada época. \n",
    "6. Ajuste o modelo aos dados de treinamento, especificando o número de épocas. \n",
    "7. Apresente o loss e outras métricas para cada época que serão avaliadas nos conjuntos de treinamento/avaliação. \n",
    "8. Avalie o loss no conjunto de teste.\n",
    "```"
   ]
  },
  {
   "cell_type": "code",
   "execution_count": 314,
   "metadata": {
    "id": "oi7czSpNM11B"
   },
   "outputs": [],
   "source": [
    "# Importando as Bibliotecas\n",
    "import pandas as pd\n",
    "import numpy as np\n",
    "import tensorflow as tf\n",
    "from tensorflow import keras\n",
    "from sklearn.model_selection import train_test_split\n",
    "import matplotlib.pyplot as plt"
   ]
  },
  {
   "cell_type": "code",
   "execution_count": 315,
   "metadata": {},
   "outputs": [
    {
     "data": {
      "text/html": [
       "<div>\n",
       "<style scoped>\n",
       "    .dataframe tbody tr th:only-of-type {\n",
       "        vertical-align: middle;\n",
       "    }\n",
       "\n",
       "    .dataframe tbody tr th {\n",
       "        vertical-align: top;\n",
       "    }\n",
       "\n",
       "    .dataframe thead th {\n",
       "        text-align: right;\n",
       "    }\n",
       "</style>\n",
       "<table border=\"1\" class=\"dataframe\">\n",
       "  <thead>\n",
       "    <tr style=\"text-align: right;\">\n",
       "      <th></th>\n",
       "      <th>Administrative</th>\n",
       "      <th>Administrative_Duration</th>\n",
       "      <th>Informational</th>\n",
       "      <th>Informational_Duration</th>\n",
       "      <th>ProductRelated</th>\n",
       "      <th>ProductRelated_Duration</th>\n",
       "      <th>BounceRates</th>\n",
       "      <th>ExitRates</th>\n",
       "      <th>PageValues</th>\n",
       "      <th>SpecialDay</th>\n",
       "      <th>...</th>\n",
       "      <th>TrafficType_20</th>\n",
       "      <th>Region_1</th>\n",
       "      <th>Region_2</th>\n",
       "      <th>Region_3</th>\n",
       "      <th>Region_4</th>\n",
       "      <th>Region_6</th>\n",
       "      <th>Region_7</th>\n",
       "      <th>Region_8</th>\n",
       "      <th>Region_9</th>\n",
       "      <th>Revenue</th>\n",
       "    </tr>\n",
       "  </thead>\n",
       "  <tbody>\n",
       "    <tr>\n",
       "      <th>0</th>\n",
       "      <td>0</td>\n",
       "      <td>0.0</td>\n",
       "      <td>0</td>\n",
       "      <td>0.0</td>\n",
       "      <td>1</td>\n",
       "      <td>0.000000</td>\n",
       "      <td>0.20</td>\n",
       "      <td>0.20</td>\n",
       "      <td>0.0</td>\n",
       "      <td>0.0</td>\n",
       "      <td>...</td>\n",
       "      <td>0</td>\n",
       "      <td>1</td>\n",
       "      <td>0</td>\n",
       "      <td>0</td>\n",
       "      <td>0</td>\n",
       "      <td>0</td>\n",
       "      <td>0</td>\n",
       "      <td>0</td>\n",
       "      <td>0</td>\n",
       "      <td>0</td>\n",
       "    </tr>\n",
       "    <tr>\n",
       "      <th>1</th>\n",
       "      <td>0</td>\n",
       "      <td>0.0</td>\n",
       "      <td>0</td>\n",
       "      <td>0.0</td>\n",
       "      <td>2</td>\n",
       "      <td>64.000000</td>\n",
       "      <td>0.00</td>\n",
       "      <td>0.10</td>\n",
       "      <td>0.0</td>\n",
       "      <td>0.0</td>\n",
       "      <td>...</td>\n",
       "      <td>0</td>\n",
       "      <td>1</td>\n",
       "      <td>0</td>\n",
       "      <td>0</td>\n",
       "      <td>0</td>\n",
       "      <td>0</td>\n",
       "      <td>0</td>\n",
       "      <td>0</td>\n",
       "      <td>0</td>\n",
       "      <td>0</td>\n",
       "    </tr>\n",
       "    <tr>\n",
       "      <th>2</th>\n",
       "      <td>0</td>\n",
       "      <td>0.0</td>\n",
       "      <td>0</td>\n",
       "      <td>0.0</td>\n",
       "      <td>1</td>\n",
       "      <td>0.000000</td>\n",
       "      <td>0.20</td>\n",
       "      <td>0.20</td>\n",
       "      <td>0.0</td>\n",
       "      <td>0.0</td>\n",
       "      <td>...</td>\n",
       "      <td>0</td>\n",
       "      <td>0</td>\n",
       "      <td>0</td>\n",
       "      <td>0</td>\n",
       "      <td>0</td>\n",
       "      <td>0</td>\n",
       "      <td>0</td>\n",
       "      <td>0</td>\n",
       "      <td>1</td>\n",
       "      <td>0</td>\n",
       "    </tr>\n",
       "    <tr>\n",
       "      <th>3</th>\n",
       "      <td>0</td>\n",
       "      <td>0.0</td>\n",
       "      <td>0</td>\n",
       "      <td>0.0</td>\n",
       "      <td>2</td>\n",
       "      <td>2.666667</td>\n",
       "      <td>0.05</td>\n",
       "      <td>0.14</td>\n",
       "      <td>0.0</td>\n",
       "      <td>0.0</td>\n",
       "      <td>...</td>\n",
       "      <td>0</td>\n",
       "      <td>0</td>\n",
       "      <td>1</td>\n",
       "      <td>0</td>\n",
       "      <td>0</td>\n",
       "      <td>0</td>\n",
       "      <td>0</td>\n",
       "      <td>0</td>\n",
       "      <td>0</td>\n",
       "      <td>0</td>\n",
       "    </tr>\n",
       "    <tr>\n",
       "      <th>4</th>\n",
       "      <td>0</td>\n",
       "      <td>0.0</td>\n",
       "      <td>0</td>\n",
       "      <td>0.0</td>\n",
       "      <td>10</td>\n",
       "      <td>627.500000</td>\n",
       "      <td>0.02</td>\n",
       "      <td>0.05</td>\n",
       "      <td>0.0</td>\n",
       "      <td>0.0</td>\n",
       "      <td>...</td>\n",
       "      <td>0</td>\n",
       "      <td>1</td>\n",
       "      <td>0</td>\n",
       "      <td>0</td>\n",
       "      <td>0</td>\n",
       "      <td>0</td>\n",
       "      <td>0</td>\n",
       "      <td>0</td>\n",
       "      <td>0</td>\n",
       "      <td>0</td>\n",
       "    </tr>\n",
       "  </tbody>\n",
       "</table>\n",
       "<p>5 rows × 69 columns</p>\n",
       "</div>"
      ],
      "text/plain": [
       "   Administrative  Administrative_Duration  Informational  \\\n",
       "0               0                      0.0              0   \n",
       "1               0                      0.0              0   \n",
       "2               0                      0.0              0   \n",
       "3               0                      0.0              0   \n",
       "4               0                      0.0              0   \n",
       "\n",
       "   Informational_Duration  ProductRelated  ProductRelated_Duration  \\\n",
       "0                     0.0               1                 0.000000   \n",
       "1                     0.0               2                64.000000   \n",
       "2                     0.0               1                 0.000000   \n",
       "3                     0.0               2                 2.666667   \n",
       "4                     0.0              10               627.500000   \n",
       "\n",
       "   BounceRates  ExitRates  PageValues  SpecialDay  ...  TrafficType_20  \\\n",
       "0         0.20       0.20         0.0         0.0  ...               0   \n",
       "1         0.00       0.10         0.0         0.0  ...               0   \n",
       "2         0.20       0.20         0.0         0.0  ...               0   \n",
       "3         0.05       0.14         0.0         0.0  ...               0   \n",
       "4         0.02       0.05         0.0         0.0  ...               0   \n",
       "\n",
       "   Region_1  Region_2  Region_3  Region_4  Region_6  Region_7  Region_8  \\\n",
       "0         1         0         0         0         0         0         0   \n",
       "1         1         0         0         0         0         0         0   \n",
       "2         0         0         0         0         0         0         0   \n",
       "3         0         1         0         0         0         0         0   \n",
       "4         1         0         0         0         0         0         0   \n",
       "\n",
       "   Region_9  Revenue  \n",
       "0         0        0  \n",
       "1         0        0  \n",
       "2         1        0  \n",
       "3         0        0  \n",
       "4         0        0  \n",
       "\n",
       "[5 rows x 69 columns]"
      ]
     },
     "execution_count": 315,
     "metadata": {},
     "output_type": "execute_result"
    }
   ],
   "source": [
    "# Carregando os dados\n",
    "df_feat = pd.read_csv(\"OSI_feats_e3.csv\")\n",
    "df_target = pd.read_csv('OSI_target_e2.csv')\n",
    "dataset = pd.concat([df_feat,df_target],axis=1)\n",
    "dataset.head()"
   ]
  },
  {
   "cell_type": "code",
   "execution_count": 316,
   "metadata": {},
   "outputs": [],
   "source": [
    "# Dividindo em conjunto de treinamento e teste\n",
    "X = dataset.drop('Revenue', axis=1)\n",
    "y = dataset['Revenue']\n",
    "x_train, x_test, y_train, y_test = train_test_split(X, y, test_size=0.2, random_state=123)"
   ]
  },
  {
   "cell_type": "code",
   "execution_count": 317,
   "metadata": {},
   "outputs": [],
   "source": [
    "# Quantidade de atributos\n",
    "qtd_attr = df_feat.shape[1]"
   ]
  },
  {
   "cell_type": "code",
   "execution_count": 318,
   "metadata": {},
   "outputs": [
    {
     "name": "stdout",
     "output_type": "stream",
     "text": [
      "Model: \"sequential_18\"\n",
      "_________________________________________________________________\n",
      " Layer (type)                Output Shape              Param #   \n",
      "=================================================================\n",
      " dense_34 (Dense)            (None, 12)                828       \n",
      "                                                                 \n",
      " dense_35 (Dense)            (None, 1)                 13        \n",
      "                                                                 \n",
      "=================================================================\n",
      "Total params: 841\n",
      "Trainable params: 841\n",
      "Non-trainable params: 0\n",
      "_________________________________________________________________\n"
     ]
    }
   ],
   "source": [
    "# Criando o Modelo\n",
    "model = keras.models.Sequential()\n",
    "model.add(keras.layers.Dense(12, input_dim=qtd_attr, activation=\"relu\"))\n",
    "model.add(keras.layers.Dense(1, activation=\"sigmoid\"))\n",
    "\n",
    "model.summary()"
   ]
  },
  {
   "cell_type": "code",
   "execution_count": 319,
   "metadata": {},
   "outputs": [
    {
     "name": "stdout",
     "output_type": "stream",
     "text": [
      "Epoch 1/10\n",
      "247/247 [==============================] - 0s 1ms/step - loss: 5.2271 - accuracy: 0.7939 - val_loss: 0.5459 - val_accuracy: 0.8596\n",
      "Epoch 2/10\n",
      "247/247 [==============================] - 0s 811us/step - loss: 0.6547 - accuracy: 0.8619 - val_loss: 0.5360 - val_accuracy: 0.8657\n",
      "Epoch 3/10\n",
      "247/247 [==============================] - 0s 774us/step - loss: 0.6062 - accuracy: 0.8677 - val_loss: 0.7635 - val_accuracy: 0.8702\n",
      "Epoch 4/10\n",
      "247/247 [==============================] - 0s 827us/step - loss: 0.6230 - accuracy: 0.8650 - val_loss: 0.5729 - val_accuracy: 0.8388\n",
      "Epoch 5/10\n",
      "247/247 [==============================] - 0s 758us/step - loss: 0.5170 - accuracy: 0.8775 - val_loss: 0.4110 - val_accuracy: 0.8768\n",
      "Epoch 6/10\n",
      "247/247 [==============================] - 0s 864us/step - loss: 0.5209 - accuracy: 0.8697 - val_loss: 0.5346 - val_accuracy: 0.8571\n",
      "Epoch 7/10\n",
      "247/247 [==============================] - 0s 815us/step - loss: 0.4832 - accuracy: 0.8769 - val_loss: 0.5981 - val_accuracy: 0.8272\n",
      "Epoch 8/10\n",
      "247/247 [==============================] - 0s 782us/step - loss: 0.4765 - accuracy: 0.8738 - val_loss: 0.4404 - val_accuracy: 0.8895\n",
      "Epoch 9/10\n",
      "247/247 [==============================] - 0s 785us/step - loss: 0.4384 - accuracy: 0.8797 - val_loss: 0.3833 - val_accuracy: 0.8834\n",
      "Epoch 10/10\n",
      "247/247 [==============================] - 0s 778us/step - loss: 0.5285 - accuracy: 0.8705 - val_loss: 0.4965 - val_accuracy: 0.8728\n"
     ]
    }
   ],
   "source": [
    "# Compilando o Modelo\n",
    "model.compile(loss='binary_crossentropy', \n",
    "              optimizer='adam',\n",
    "              metrics=['accuracy'])\n",
    "\n",
    "# Treinando o Modelo\n",
    "EPOCH = 10\n",
    "history = model.fit(x_train, y_train, epochs=EPOCH, validation_split=0.2)"
   ]
  },
  {
   "cell_type": "code",
   "execution_count": 320,
   "metadata": {},
   "outputs": [
    {
     "data": {
      "image/png": "[encoded data removed]",
      "text/plain": [
       "<Figure size 1008x288 with 2 Axes>"
      ]
     },
     "metadata": {
      "needs_background": "light"
     },
     "output_type": "display_data"
    }
   ],
   "source": [
    "# Avaliação de Métricas\n",
    "def viz_history(training_history):\n",
    "    loss = training_history.history['loss']\n",
    "    val_loss = training_history.history['val_loss']\n",
    "    accuracy = training_history.history['accuracy']\n",
    "    val_accuracy = training_history.history['val_accuracy']\n",
    "    plt.figure(figsize=(14, 4))\n",
    "    plt.subplot(1, 2, 1)\n",
    "    plt.title('Loss')\n",
    "    plt.xlabel('Epoch')\n",
    "    plt.ylabel('Loss')\n",
    "    plt.plot(loss, label='Training set')\n",
    "    plt.plot(val_loss, label='Test set', linestyle='--')\n",
    "    plt.legend()\n",
    "    plt.grid(linestyle='--', linewidth=1, alpha=0.5)\n",
    "    plt.subplot(1, 2, 2)\n",
    "    plt.title('Accuracy')\n",
    "    plt.xlabel('Epoch')\n",
    "    plt.ylabel('Accuracy')\n",
    "    plt.plot(accuracy, label='Training set')\n",
    "    plt.plot(val_accuracy, label='Test set', linestyle='--')\n",
    "    plt.legend()\n",
    "    plt.grid(linestyle='--', linewidth=1, alpha=0.5)\n",
    "    plt.show()\n",
    "\n",
    "viz_history(history)"
   ]
  },
  {
   "cell_type": "code",
   "execution_count": 321,
   "metadata": {},
   "outputs": [
    {
     "name": "stdout",
     "output_type": "stream",
     "text": [
      "78/78 [==============================] - 0s 536us/step - loss: 0.4772 - accuracy: 0.8767\n",
      "Acurácia: 87.67 %\n"
     ]
    }
   ],
   "source": [
    "# Avaliação \n",
    "_, accuracy = model.evaluate(x_test,y_test)\n",
    "print(f\"Acurácia: {accuracy*100:.2f} %\")"
   ]
  },
  {
   "cell_type": "code",
   "execution_count": 322,
   "metadata": {},
   "outputs": [
    {
     "name": "stdout",
     "output_type": "stream",
     "text": [
      "|real: 0 | predito: 0|\n",
      "|real: 0 | predito: 0|\n",
      "|real: 1 | predito: 1|\n",
      "|real: 0 | predito: 0|\n",
      "|real: 0 | predito: 0|\n",
      "|real: 0 | predito: 0|\n",
      "|real: 0 | predito: 0|\n",
      "|real: 0 | predito: 0|\n",
      "|real: 0 | predito: 0|\n",
      "|real: 0 | predito: 0|\n"
     ]
    }
   ],
   "source": [
    "# Predições\n",
    "pred = (model.predict(x_test) > 0.5).astype(\"int32\")\n",
    "for i in range(10):\n",
    "  print('|real: %d | predito: %d|' % (y_test.to_list()[i], pred[i]))"
   ]
  }
 ],
 "metadata": {
  "colab": {
   "collapsed_sections": [
    "BKpVuQpatfOI",
    "PfOciqM_thZ1",
    "JrAUMu8Au6EN",
    "LaEE5llC4nKO",
    "GbWOiO2I5Fx3"
   ],
   "name": "DL_Trilha2_Ferramentas.ipynb",
   "provenance": []
  },
  "kernelspec": {
   "display_name": "Python 3",
   "name": "python3"
  },
  "language_info": {
   "codemirror_mode": {
    "name": "ipython",
    "version": 3
   },
   "file_extension": ".py",
   "mimetype": "text/x-python",
   "name": "python",
   "nbconvert_exporter": "python",
   "pygments_lexer": "ipython3",
   "version": "3.9.7"
  }
 },
 "nbformat": 4,
 "nbformat_minor": 0
}