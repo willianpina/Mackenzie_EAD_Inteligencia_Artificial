{
 "cells": [
  {
   "cell_type": "markdown",
   "metadata": {},
   "source": [
    "### **DEEP LEARNING PARA PROCESSAMENTO DE LINGUAGEM E VISÃO [TURMA 01B] - 2022/1**\n",
    "#### Trilha 2: Tarefa (Peso 3)"
   ]
  },
  {
   "cell_type": "markdown",
   "metadata": {},
   "source": [
    "Nesta atividade, você deverá carregar os dados disponibilizados `OSI_feats_e3.csv`(entrada) e `OSI_feats_e2.csv` (Saída) combinando os seguintes passos:\n",
    "\n",
    "```\n",
    "1. Carregue os dados e divida-os em treinamento e teste. \n",
    "2. Crie um modelo sequencial. \n",
    "3. Adicione uma camada Dense com N neurônios, sendo N a quantidade de atributos. \n",
    "4. Adicione uma função de ativação sigmoide. \n",
    "5. Compile o modelo especificando o otimizador, a métrica de loss para avaliar, e quaisquer outras métricas para avaliar depois de cada época. \n",
    "6. Ajuste o modelo aos dados de treinamento, especificando o número de épocas. \n",
    "7. Apresente o loss e outras métricas para cada época que serão avaliadas nos conjuntos de treinamento/avaliação. \n",
    "8. Avalie o loss no conjunto de teste.\n",
    "```"
   ]
  },
  {
   "cell_type": "code",
   "execution_count": 6,
   "metadata": {
    "id": "oi7czSpNM11B"
   },
   "outputs": [],
   "source": [
    "# Importando as Bibliotecas\n",
    "import pandas as pd\n",
    "import numpy as np\n",
    "import tensorflow as tf\n",
    "from tensorflow import keras"
   ]
  },
  {
   "cell_type": "code",
   "execution_count": 5,
   "metadata": {},
   "outputs": [],
   "source": [
    "df_feat = pd.read_csv(\"OSI_feats_e3.csv\")\n",
    "df_target = pd.read_csv('OSI_target_e2.csv')"
   ]
  },
  {
   "cell_type": "code",
   "execution_count": 7,
   "metadata": {},
   "outputs": [
    {
     "data": {
      "text/plain": [
       "(12330, 68)"
      ]
     },
     "execution_count": 7,
     "metadata": {},
     "output_type": "execute_result"
    }
   ],
   "source": [
    "df_feat.shape"
   ]
  }
 ],
 "metadata": {
  "colab": {
   "collapsed_sections": [
    "BKpVuQpatfOI",
    "PfOciqM_thZ1",
    "JrAUMu8Au6EN",
    "LaEE5llC4nKO",
    "GbWOiO2I5Fx3"
   ],
   "name": "DL_Trilha2_Ferramentas.ipynb",
   "provenance": []
  },
  "kernelspec": {
   "display_name": "Python 3",
   "name": "python3"
  },
  "language_info": {
   "codemirror_mode": {
    "name": "ipython",
    "version": 3
   },
   "file_extension": ".py",
   "mimetype": "text/x-python",
   "name": "python",
   "nbconvert_exporter": "python",
   "pygments_lexer": "ipython3",
   "version": "3.9.7"
  }
 },
 "nbformat": 4,
 "nbformat_minor": 0
}
